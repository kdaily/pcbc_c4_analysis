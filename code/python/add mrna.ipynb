{
 "metadata": {
  "name": "",
  "signature": "sha256:9fda1d24e94a71a06b6d61141207649f3aea9ad6b7834a03e5587690c87c96cf"
 },
 "nbformat": 3,
 "nbformat_minor": 0,
 "worksheets": [
  {
   "cells": [
    {
     "cell_type": "code",
     "collapsed": false,
     "input": [
      "import synapseclient\n",
      "import pandas\n",
      "import sets\n",
      "import numpy\n",
      "\n",
      "syn = synapseclient.login()"
     ],
     "language": "python",
     "metadata": {},
     "outputs": [
      {
       "output_type": "stream",
       "stream": "stdout",
       "text": [
        "Welcome, Kenneth Daily!\n"
       ]
      }
     ],
     "prompt_number": 1
    },
    {
     "cell_type": "markdown",
     "metadata": {},
     "source": [
      "## Get complete list of methylation files\n",
      "\n",
      "A number of files have been added, with appropriate (but slightly differently named) annotations. Get all the files in the methylation directory via a query:"
     ]
    },
    {
     "cell_type": "code",
     "collapsed": false,
     "input": [
      "q = \"select id,name,UID,Diffname_short,C4_Cell_Line_ID from file where projectId=='syn1773109' AND dataType=='mRNA' and fileType=='fastq'\"\n",
      "res = syn.query(q)\n",
      "res = res['results']"
     ],
     "language": "python",
     "metadata": {},
     "outputs": [],
     "prompt_number": 4
    },
    {
     "cell_type": "markdown",
     "metadata": {},
     "source": [
      "Need to clean them up a bit - some data is stored in lists in each column, so get the first value out if so."
     ]
    },
    {
     "cell_type": "code",
     "collapsed": false,
     "input": [
      "def clean(x):\n",
      "    d = {}\n",
      "    for k,v in x.iteritems():\n",
      "        if type(v) is list:\n",
      "            v = v[0]\n",
      "        d[k] = v\n",
      "    return d\n",
      "\n",
      "res = map(clean, res)\n",
      "\n",
      "resTbl = pandas.DataFrame(res)"
     ],
     "language": "python",
     "metadata": {},
     "outputs": [],
     "prompt_number": 5
    },
    {
     "cell_type": "markdown",
     "metadata": {},
     "source": [
      "The column names also need adjusting - remove 'file' prefix, and rename a couple that are different in the metadata table."
     ]
    },
    {
     "cell_type": "code",
     "collapsed": false,
     "input": [
      "resTbl.rename(columns=lambda x: x.split(\"file.\")[1], inplace=True)\n",
      "\n",
      "# add bioSampleName\n",
      "resTbl['biologicalSampleName'] = resTbl['UID'].str.split(\".\").apply(lambda x: x[0])"
     ],
     "language": "python",
     "metadata": {},
     "outputs": [],
     "prompt_number": 6
    },
    {
     "cell_type": "code",
     "collapsed": false,
     "input": [
      "resTbl = resTbl[[\"UID\", \"biologicalSampleName\"]]"
     ],
     "language": "python",
     "metadata": {},
     "outputs": [],
     "prompt_number": 18
    },
    {
     "cell_type": "markdown",
     "metadata": {},
     "source": [
      "Get the current metadata schema (and entire table). We need to get all columns to add new rows (so we know what all the columns are)."
     ]
    },
    {
     "cell_type": "code",
     "collapsed": false,
     "input": [
      "assaySchema = syn.get(\"syn3104413\")\n",
      "assayTbl = syn.tableQuery(\"select * from %s\" % (assaySchema.properties.id)).asDataFrame()"
     ],
     "language": "python",
     "metadata": {},
     "outputs": [
      {
       "output_type": "stream",
       "stream": "stdout",
       "text": [
        "...\n"
       ]
      },
      {
       "output_type": "stream",
       "stream": "stdout",
       "text": [
        "\n",
        "\r",
        " [--------------------]0.00% \t0.0bytes/29.8kB "
       ]
      },
      {
       "output_type": "stream",
       "stream": "stdout",
       "text": [
        "\r",
        " [###-----------------]13.44% \t4.0kB/29.8kB "
       ]
      },
      {
       "output_type": "stream",
       "stream": "stdout",
       "text": [
        "\r",
        " [#####---------------]26.89% \t8.0kB/29.8kB "
       ]
      },
      {
       "output_type": "stream",
       "stream": "stdout",
       "text": [
        "\r",
        " [########------------]40.33% \t12.0kB/29.8kB "
       ]
      },
      {
       "output_type": "stream",
       "stream": "stdout",
       "text": [
        "\r",
        " [###########---------]53.77% \t16.0kB/29.8kB "
       ]
      },
      {
       "output_type": "stream",
       "stream": "stdout",
       "text": [
        "\r",
        " [#############-------]67.22% \t20.0kB/29.8kB "
       ]
      },
      {
       "output_type": "stream",
       "stream": "stdout",
       "text": [
        "\r",
        " [################----]80.66% \t24.0kB/29.8kB "
       ]
      },
      {
       "output_type": "stream",
       "stream": "stdout",
       "text": [
        "\r",
        " [###################-]94.11% \t28.0kB/29.8kB "
       ]
      }
     ],
     "prompt_number": 20
    },
    {
     "cell_type": "markdown",
     "metadata": {},
     "source": [
      "Figure out which files aren't already in the table."
     ]
    },
    {
     "cell_type": "code",
     "collapsed": false,
     "input": [
      "boolIdx = resTbl.UID.isin(assayTbl.UID)\n",
      "missing = resTbl[~boolIdx]"
     ],
     "language": "python",
     "metadata": {},
     "outputs": [],
     "prompt_number": 21
    },
    {
     "cell_type": "markdown",
     "metadata": {},
     "source": [
      "Add empty values for all data that is not known:"
     ]
    },
    {
     "cell_type": "code",
     "collapsed": false,
     "input": [
      "missingcols = set(assayTbl.columns).difference(set(missing.columns))\n",
      "\n",
      "for col in missingcols:\n",
      "    missing[col] = numpy.nan"
     ],
     "language": "python",
     "metadata": {},
     "outputs": [
      {
       "output_type": "stream",
       "stream": "stderr",
       "text": [
        "-c:4: SettingWithCopyWarning: \n",
        "A value is trying to be set on a copy of a slice from a DataFrame.\n",
        "Try using .loc[row_indexer,col_indexer] = value instead\n",
        "\n",
        "See the the caveats in the documentation: http://pandas.pydata.org/pandas-docs/stable/indexing.html#indexing-view-versus-copy\n"
       ]
      }
     ],
     "prompt_number": 23
    },
    {
     "cell_type": "markdown",
     "metadata": {},
     "source": [
      "Re-order the columns so they are the same as the existing table (not sure this is needed)."
     ]
    },
    {
     "cell_type": "code",
     "collapsed": false,
     "input": [
      "missing = missing[assayTbl.columns]"
     ],
     "language": "python",
     "metadata": {},
     "outputs": [],
     "prompt_number": 25
    },
    {
     "cell_type": "markdown",
     "metadata": {},
     "source": [
      "Finally, store the new rows."
     ]
    },
    {
     "cell_type": "code",
     "collapsed": false,
     "input": [
      "tbl = synapseclient.Table(assaySchema, missing)\n",
      "tbl = syn.store(tbl)"
     ],
     "language": "python",
     "metadata": {},
     "outputs": [
      {
       "output_type": "stream",
       "stream": "stdout",
       "text": [
        "."
       ]
      },
      {
       "output_type": "stream",
       "stream": "stdout",
       "text": [
        "."
       ]
      },
      {
       "output_type": "stream",
       "stream": "stdout",
       "text": [
        ","
       ]
      },
      {
       "output_type": "stream",
       "stream": "stdout",
       "text": [
        "!"
       ]
      },
      {
       "output_type": "stream",
       "stream": "stdout",
       "text": [
        "!\n"
       ]
      },
      {
       "output_type": "stream",
       "stream": "stdout",
       "text": [
        "Upload completed in 3 seconds.\n",
        "Starting..."
       ]
      },
      {
       "output_type": "stream",
       "stream": "stdout",
       "text": [
        "...0\n"
       ]
      },
      {
       "output_type": "stream",
       "stream": "stdout",
       "text": [
        "\n"
       ]
      }
     ],
     "prompt_number": 26
    },
    {
     "cell_type": "code",
     "collapsed": false,
     "input": [
      "assayTbl = syn.tableQuery(\"select * from %s where exclude is null\" % (assaySchema.properties.id))\n",
      "df = assayTbl.asDataFrame()"
     ],
     "language": "python",
     "metadata": {},
     "outputs": [
      {
       "output_type": "stream",
       "stream": "stdout",
       "text": [
        "Create CSV FileHandle...60\n"
       ]
      },
      {
       "output_type": "stream",
       "stream": "stdout",
       "text": [
        "\n",
        "\r",
        " [--------------------]0.00% \t0.0bytes/1.8kB "
       ]
      }
     ],
     "prompt_number": 35
    },
    {
     "cell_type": "code",
     "collapsed": false,
     "input": [
      "df['exclude'] = False\n",
      "df['pass_qc'] = True"
     ],
     "language": "python",
     "metadata": {},
     "outputs": [],
     "prompt_number": 38
    },
    {
     "cell_type": "code",
     "collapsed": false,
     "input": [
      "table = syn.store(synapseclient.Table(assaySchema, df, etag=assayTbl.etag))"
     ],
     "language": "python",
     "metadata": {},
     "outputs": [
      {
       "output_type": "stream",
       "stream": "stdout",
       "text": [
        "."
       ]
      },
      {
       "output_type": "stream",
       "stream": "stdout",
       "text": [
        "."
       ]
      },
      {
       "output_type": "stream",
       "stream": "stdout",
       "text": [
        ","
       ]
      },
      {
       "output_type": "stream",
       "stream": "stdout",
       "text": [
        "!"
       ]
      },
      {
       "output_type": "stream",
       "stream": "stdout",
       "text": [
        "!\n"
       ]
      },
      {
       "output_type": "stream",
       "stream": "stdout",
       "text": [
        "Upload completed in 3 seconds.\n",
        "Starting..."
       ]
      },
      {
       "output_type": "stream",
       "stream": "stdout",
       "text": [
        "...0\n"
       ]
      },
      {
       "output_type": "stream",
       "stream": "stdout",
       "text": [
        "\n"
       ]
      }
     ],
     "prompt_number": 41
    }
   ],
   "metadata": {}
  }
 ]
}